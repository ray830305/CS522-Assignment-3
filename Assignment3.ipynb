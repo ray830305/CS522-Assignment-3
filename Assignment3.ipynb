{
 "cells": [
  {
   "cell_type": "markdown",
   "id": "51500508",
   "metadata": {},
   "source": [
    "# Imports"
   ]
  },
  {
   "cell_type": "code",
   "execution_count": 1,
   "id": "3fd7173b",
   "metadata": {},
   "outputs": [],
   "source": [
    "import numpy as np\n",
    "import pandas as pd\n",
    "from scipy import signal\n",
    "import cv2\n",
    "from sklearn.preprocessing import StandardScaler\n",
    "from sklearn.model_selection import train_test_split\n",
    "from sklearn.ensemble import RandomForestClassifier\n",
    "from sklearn.model_selection import cross_val_score\n",
    "from sklearn.metrics import confusion_matrix\n",
    "from sklearn.metrics import classification_report, accuracy_score\n",
    "from sklearn.svm import SVC"
   ]
  },
  {
   "cell_type": "markdown",
   "id": "546f6ec8",
   "metadata": {},
   "source": [
    "# Data Collection, Preprocessing and Cleansing"
   ]
  },
  {
   "cell_type": "markdown",
   "id": "4d3a3edb",
   "metadata": {},
   "source": [
    "## Reading in data"
   ]
  },
  {
   "cell_type": "markdown",
   "id": "36d52b2a",
   "metadata": {},
   "source": [
    "### Climbing down"
   ]
  },
  {
   "cell_type": "code",
   "execution_count": 2,
   "id": "98b86a21",
   "metadata": {
    "scrolled": false
   },
   "outputs": [],
   "source": [
    "path = \"Climbing_down_stairs/CL\"\n",
    "Climbing_down = []\n",
    "for i in range(1, 51):\n",
    "    df = pd.read_csv(path +f\"{i}\" + \"/Accelerometer.csv\" )\n",
    "    df = df.rename(columns={ df.columns[2]: \"ACCELEROMETER Z (m/s²)\" ,df.columns[3]: \"ACCELEROMETER Y (m/s²)\", \n",
    "                            df.columns[4]: \"ACCELEROMETER X (m/s²)\"   })\n",
    "    df = df[['seconds_elapsed', 'ACCELEROMETER X (m/s²)',\n",
    "   'ACCELEROMETER Y (m/s²)', 'ACCELEROMETER Z (m/s²)']]\n",
    "    df1 = pd.read_csv(path +f\"{i}\" + \"/Gyroscope.csv\" )\n",
    "    df1 = df1.rename(columns={ df1.columns[2]: \"GYROSCOPE Z (rad/s)\" ,df1.columns[3]: \"GYROSCOPE Y (rad/s)\", \n",
    "                            df1.columns[4]: \"GYROSCOPE X (rad/s)\"   })\n",
    "    df1 = df1[['time', 'seconds_elapsed', 'GYROSCOPE X (rad/s)',\n",
    "   'GYROSCOPE Y (rad/s)', 'GYROSCOPE Z (rad/s)']]\n",
    "    df1.drop(['time', 'seconds_elapsed'], axis=1, inplace=True)\n",
    "    Climbing = pd.concat([df, df1], axis = 1).values.tolist()\n",
    "    Climbing_down.append(Climbing)"
   ]
  },
  {
   "cell_type": "markdown",
   "id": "0aed2894",
   "metadata": {},
   "source": [
    "### Standing up"
   ]
  },
  {
   "cell_type": "code",
   "execution_count": 3,
   "id": "c28fdf71",
   "metadata": {
    "scrolled": false
   },
   "outputs": [],
   "source": [
    "path = \"standing_up/Stand\"\n",
    "Standing = []\n",
    "for i in range(1, 51):\n",
    "    df = pd.read_csv(path +f\"{i}\" + \"/Accelerometer.csv\" )\n",
    "    df = df.rename(columns={ df.columns[2]: \"ACCELEROMETER Z (m/s²)\" ,df.columns[3]: \"ACCELEROMETER Y (m/s²)\", \n",
    "                            df.columns[4]: \"ACCELEROMETER X (m/s²)\"   })\n",
    "    df = df[['seconds_elapsed', 'ACCELEROMETER X (m/s²)',\n",
    "   'ACCELEROMETER Y (m/s²)', 'ACCELEROMETER Z (m/s²)']]\n",
    "    df1 = pd.read_csv(path +f\"{i}\" + \"/Gyroscope.csv\" )\n",
    "    df1 = df1.rename(columns={ df1.columns[2]: \"GYROSCOPE Z (rad/s)\" ,df1.columns[3]: \"GYROSCOPE Y (rad/s)\", \n",
    "                            df1.columns[4]: \"GYROSCOPE X (rad/s)\"   })\n",
    "    df1 = df1[['time', 'seconds_elapsed', 'GYROSCOPE X (rad/s)',\n",
    "   'GYROSCOPE Y (rad/s)', 'GYROSCOPE Z (rad/s)']]\n",
    "\n",
    "    df1.drop(['time', 'seconds_elapsed'], axis=1, inplace=True)\n",
    "\n",
    "    Stand = pd.concat([df, df1], axis = 1 , join='inner').values.tolist()\n",
    "    Standing.append(Stand)"
   ]
  },
  {
   "cell_type": "markdown",
   "id": "b28275d6",
   "metadata": {},
   "source": [
    "### Walking"
   ]
  },
  {
   "cell_type": "code",
   "execution_count": 4,
   "id": "41002e1b",
   "metadata": {},
   "outputs": [],
   "source": [
    "path = \"data/walking/walking_\"\n",
    "walking = []\n",
    "for i in range(20):\n",
    "    df = pd.read_csv(path +f\"{i}.csv\",header=1,sep=\";\")\n",
    "    df = df[['Time since start in ms ', 'ACCELEROMETER X (m/s²)',\n",
    "      'ACCELEROMETER Y (m/s²)', 'ACCELEROMETER Z (m/s²)', 'GYROSCOPE X (rad/s)', \n",
    "    'GYROSCOPE Y (rad/s)', 'GYROSCOPE Z (rad/s)']]\n",
    "    df['Time since start in ms ']/= 1000\n",
    "    df = df.rename(columns={ df.columns[0]: \"seconds_elapsed\"}).values.tolist()\n",
    "    walking.append(df)"
   ]
  },
  {
   "cell_type": "markdown",
   "id": "4c13c6f0",
   "metadata": {},
   "source": [
    "### Rowing"
   ]
  },
  {
   "cell_type": "code",
   "execution_count": 5,
   "id": "23f59de5",
   "metadata": {},
   "outputs": [],
   "source": [
    "rowing = pd.read_csv(\"RowingMachine_20221102_210235_AndroSensor.csv\",header=1,sep=\";\")\n",
    "rowing = rowing[['Time since start in ms ', 'ACCELEROMETER X (m/s²)',\n",
    "      'ACCELEROMETER Y (m/s²)', 'ACCELEROMETER Z (m/s²)', 'GYROSCOPE X (rad/s)', \n",
    "    'GYROSCOPE Y (rad/s)', 'GYROSCOPE Z (rad/s)']]\n",
    "rowing['Time since start in ms ']/= 1000\n",
    "rowing = [rowing.rename(columns={ rowing.columns[0]: \"seconds_elapsed\"}).values.tolist()]"
   ]
  },
  {
   "cell_type": "markdown",
   "id": "eb305491",
   "metadata": {},
   "source": [
    "### Climbing up"
   ]
  },
  {
   "cell_type": "code",
   "execution_count": 6,
   "id": "e0424fb4",
   "metadata": {},
   "outputs": [],
   "source": [
    "climbing_up = pd.read_csv(\"climbing_Up_stairs.csv\",header=1,sep=\";\")\n",
    "climbing_up = climbing_up[['Time since start in ms ', 'ACCELEROMETER X (m/s²)',\n",
    "      'ACCELEROMETER Y (m/s²)', 'ACCELEROMETER Z (m/s²)', 'GYROSCOPE X (rad/s)', \n",
    "    'GYROSCOPE Y (rad/s)', 'GYROSCOPE Z (rad/s)']]\n",
    "climbing_up['Time since start in ms ']/= 1000\n",
    "climbing_up = [climbing_up.rename(columns={ climbing_up.columns[0]: \"seconds_elapsed\"}).values.tolist()]"
   ]
  },
  {
   "cell_type": "markdown",
   "id": "dc62504b",
   "metadata": {},
   "source": [
    "### Create data list\n",
    "The data is sorted by it class, with the order: walking, rowing, climbing down, climbing up and standing"
   ]
  },
  {
   "cell_type": "code",
   "execution_count": 7,
   "id": "3b33909b",
   "metadata": {},
   "outputs": [],
   "source": [
    "#All data [walking,rowing,climbing_down,climbing_up,standing]\n",
    "data = [walking, rowing, Climbing_down, climbing_up, Standing]"
   ]
  },
  {
   "cell_type": "markdown",
   "id": "983434e2",
   "metadata": {},
   "source": [
    "## Removing start and end period\n",
    "Some activities are more prown to wrong values at the beginning and end, because you have to move the phone to start/stop the recording. Therefore are the first five and last five seconds ignored for these activities"
   ]
  },
  {
   "cell_type": "code",
   "execution_count": 8,
   "id": "e3ab0668",
   "metadata": {},
   "outputs": [],
   "source": [
    "for i in [0, 1, 3]:\n",
    "    for j in range(len(data[i])):\n",
    "        data[i][j] = data[i][j][10:-10]"
   ]
  },
  {
   "cell_type": "markdown",
   "id": "a1109f7a",
   "metadata": {},
   "source": [
    "## Windowing"
   ]
  },
  {
   "cell_type": "markdown",
   "id": "82f2ace1",
   "metadata": {},
   "source": [
    "For activities that are not instance based, the data has to be windowed.\n",
    "For walking a window size of 2 minutes is chosen and for rowing and climbing up a window size of 1 minute, because they have less data overall. A overlap of 80% is chosen (seemed to work best after testing different overlaps)"
   ]
  },
  {
   "cell_type": "code",
   "execution_count": 9,
   "id": "7828b16b",
   "metadata": {},
   "outputs": [],
   "source": [
    "window_length = {0: 240, 1: 120, 3: 120}  # In indexes, one index is equal to 0.5 seconds\n",
    "overlap = 0.8\n",
    "\n",
    "for i in [0, 1, 3]:\n",
    "    windows = []\n",
    "    for j in range(len(data[i])):\n",
    "        end_index = window_length[i]\n",
    "        window_number = 1\n",
    "        while end_index - 1 < len(data[i][j]):\n",
    "            window = data[i][j][end_index - window_length[i]:end_index]\n",
    "            windows.append(window)\n",
    "            window_number += 1\n",
    "            end_index += int((1 - overlap) * window_length[i])\n",
    "    data[i] = windows"
   ]
  },
  {
   "cell_type": "markdown",
   "id": "84406c4b",
   "metadata": {},
   "source": [
    "## Spectrogram"
   ]
  },
  {
   "cell_type": "markdown",
   "id": "a471d4b8",
   "metadata": {},
   "source": [
    "To extract the frequency information over time from the data, spectograms are created"
   ]
  },
  {
   "cell_type": "code",
   "execution_count": 10,
   "id": "2c08e68e",
   "metadata": {
    "scrolled": true
   },
   "outputs": [],
   "source": [
    "fs_values = {0: 2, 1: 2, 2: 100, 3: 2, 4: 200}\n",
    "FFT_SIZE=1024\n",
    "data_spectrograms = [[] for _ in range(len(data))]\n",
    "for cls_number in range(len(data)):\n",
    "    for i in range(len(data[cls_number])):\n",
    "        features_spectograms = []\n",
    "        for j in range(1, 7):\n",
    "            data_points = np.asarray([x[j] for x in data[cls_number][i]])\n",
    "            nperseg = FFT_SIZE if len(data_points) > FFT_SIZE else len(data_points)\n",
    "            f,t,pxx = signal.spectrogram(data_points, nperseg=nperseg, fs=fs_values[cls_number] , noverlap=nperseg/2)\n",
    "            features_spectograms.append([f, t, pxx])\n",
    "        data_spectrograms[cls_number].append(features_spectograms)"
   ]
  },
  {
   "cell_type": "markdown",
   "id": "4bed635e",
   "metadata": {},
   "source": [
    "## Binning"
   ]
  },
  {
   "cell_type": "markdown",
   "id": "7e262f2e",
   "metadata": {},
   "source": [
    "To keep as much information of the spectrograms as possible, but without having to much features, a semi high bin number is chosen. Testing and comparing different numbers of bins and its results showed that 45 in each axis seems to be a good mix between these two requirements"
   ]
  },
  {
   "cell_type": "code",
   "execution_count": 11,
   "id": "a1c3d34b",
   "metadata": {},
   "outputs": [],
   "source": [
    "num_freq_bins = 45\n",
    "num_time_bins = 45\n",
    "data_spectrograms_binned = [[] for _ in range(len(data))]\n",
    "for cls_number in range(len(data_spectrograms)):\n",
    "    for i in range(len(data_spectrograms[cls_number])):\n",
    "        features_spectograms = []\n",
    "        for j in range(6):\n",
    "            resized_pxx = cv2.resize(data_spectrograms[cls_number][i][j][2],(num_time_bins,num_freq_bins))\n",
    "            features_spectograms.append([data_spectrograms[cls_number][i][j][0], data_spectrograms[cls_number][i][j][1], resized_pxx])\n",
    "        data_spectrograms_binned[cls_number].append(features_spectograms)"
   ]
  },
  {
   "cell_type": "markdown",
   "id": "e8972e7f",
   "metadata": {},
   "source": [
    "## Feature selection"
   ]
  },
  {
   "cell_type": "markdown",
   "id": "8337c606",
   "metadata": {},
   "source": [
    "As features only the binned spectrograms for all values (acceleration x, acceleration y, acceleration z, gyroscope x, gyroscope y and gyroscope z) are chosen. This is enough to achieve a sufficient accuracy with a Random Forest and SVM model"
   ]
  },
  {
   "cell_type": "code",
   "execution_count": 12,
   "id": "5e561ae2",
   "metadata": {},
   "outputs": [],
   "source": [
    "data_features = [[] for _ in range(len(data))]\n",
    "\n",
    "for cls_number in range(len(data_spectrograms_binned)):\n",
    "    for i in range(len(data_spectrograms_binned[cls_number])):\n",
    "        features = []\n",
    "        for j in range(6):\n",
    "            features.extend(data_spectrograms_binned[cls_number][i][j][2].reshape((-1,)).tolist())\n",
    "        data_features[cls_number].append(np.asarray(features))"
   ]
  },
  {
   "cell_type": "markdown",
   "id": "a9c79cc8",
   "metadata": {},
   "source": [
    "## Creating labels"
   ]
  },
  {
   "cell_type": "code",
   "execution_count": 13,
   "id": "befb6e3d",
   "metadata": {},
   "outputs": [],
   "source": [
    "data_list = []\n",
    "labels_list = []\n",
    "\n",
    "for cls_number in range(len(data_features)):\n",
    "    for i in range(len(data_features[cls_number])):\n",
    "        data_list.append(data_features[cls_number][i])\n",
    "        labels_list.append(cls_number)"
   ]
  },
  {
   "cell_type": "markdown",
   "id": "3da36376",
   "metadata": {},
   "source": [
    "## Normalization"
   ]
  },
  {
   "cell_type": "markdown",
   "id": "6d3aded3",
   "metadata": {},
   "source": [
    "Sligthly improves testing accuracy of SVM by 0.5 % and has no effect on testing accuracy of the Random Forest model"
   ]
  },
  {
   "cell_type": "code",
   "execution_count": 14,
   "id": "eb0581d2",
   "metadata": {},
   "outputs": [],
   "source": [
    "scaler = StandardScaler()\n",
    "data_list = scaler.fit_transform(data_list)"
   ]
  },
  {
   "cell_type": "markdown",
   "id": "1e63443a",
   "metadata": {},
   "source": [
    "## Create training and test data"
   ]
  },
  {
   "cell_type": "markdown",
   "id": "18bd8be5",
   "metadata": {},
   "source": [
    "A 70/30 split is chosen, which means that 70% of the data is used for training and 30% for testing"
   ]
  },
  {
   "cell_type": "code",
   "execution_count": 15,
   "id": "ebb16be7",
   "metadata": {},
   "outputs": [],
   "source": [
    "xtrain, xtest, ytrain, ytest = train_test_split(data_list, labels_list, test_size=0.30, random_state=42)"
   ]
  },
  {
   "cell_type": "markdown",
   "id": "d63a2398",
   "metadata": {},
   "source": [
    "# ML models"
   ]
  },
  {
   "cell_type": "markdown",
   "id": "3c2f1e51",
   "metadata": {},
   "source": [
    "## Random forest"
   ]
  },
  {
   "cell_type": "code",
   "execution_count": 16,
   "id": "b97cd076",
   "metadata": {},
   "outputs": [
    {
     "name": "stdout",
     "output_type": "stream",
     "text": [
      "Average Cross Validation Score from Training:\n",
      "1.0\n",
      "\n",
      "\n",
      "Confusion Matrix:\n",
      "[[135   0   0   0   0]\n",
      " [  0  33   0   0   0]\n",
      " [  0   0  13   0   0]\n",
      " [  0   0   0  24   0]\n",
      " [  0   0   0   0  13]]\n",
      "\n",
      "\n",
      "Test Statistics:\n",
      "              precision    recall  f1-score   support\n",
      "\n",
      "           0       1.00      1.00      1.00       135\n",
      "           1       1.00      1.00      1.00        33\n",
      "           2       1.00      1.00      1.00        13\n",
      "           3       1.00      1.00      1.00        24\n",
      "           4       1.00      1.00      1.00        13\n",
      "\n",
      "    accuracy                           1.00       218\n",
      "   macro avg       1.00      1.00      1.00       218\n",
      "weighted avg       1.00      1.00      1.00       218\n",
      "\n",
      "\n",
      "\n",
      "Testing Accuracy: 1.0\n"
     ]
    }
   ],
   "source": [
    "clf = RandomForestClassifier()\n",
    "clf.fit(xtrain, ytrain)\n",
    "cv_scores = cross_val_score(clf, xtrain, ytrain, cv=10)\n",
    "print('Average Cross Validation Score from Training:', cv_scores.mean(), sep='\\n', end='\\n\\n\\n')\n",
    "\n",
    "ypred = clf.predict(xtest)\n",
    "cm = confusion_matrix(ytest, ypred)\n",
    "cr = classification_report(ytest, ypred)\n",
    "\n",
    "print('Confusion Matrix:', cm, sep='\\n', end='\\n\\n\\n')\n",
    "print('Test Statistics:', cr, sep='\\n', end='\\n\\n\\n')\n",
    "\n",
    "print('Testing Accuracy:', accuracy_score(ytest, ypred))"
   ]
  },
  {
   "cell_type": "markdown",
   "id": "f390525b",
   "metadata": {},
   "source": [
    "## SVM"
   ]
  },
  {
   "cell_type": "code",
   "execution_count": 17,
   "id": "be25132f",
   "metadata": {},
   "outputs": [
    {
     "name": "stdout",
     "output_type": "stream",
     "text": [
      "Average Cross Validation Score from Training:\n",
      "0.9980392156862745\n",
      "\n",
      "\n",
      "Confusion Matrix:\n",
      "[[135   0   0   0   0]\n",
      " [  0  33   0   0   0]\n",
      " [  0   0  13   0   0]\n",
      " [  0   0   0  24   0]\n",
      " [  0   0   0   0  13]]\n",
      "\n",
      "\n",
      "Test Statistics:\n",
      "              precision    recall  f1-score   support\n",
      "\n",
      "           0       1.00      1.00      1.00       135\n",
      "           1       1.00      1.00      1.00        33\n",
      "           2       1.00      1.00      1.00        13\n",
      "           3       1.00      1.00      1.00        24\n",
      "           4       1.00      1.00      1.00        13\n",
      "\n",
      "    accuracy                           1.00       218\n",
      "   macro avg       1.00      1.00      1.00       218\n",
      "weighted avg       1.00      1.00      1.00       218\n",
      "\n",
      "\n",
      "\n",
      "Testing Accuracy: 1.0\n"
     ]
    }
   ],
   "source": [
    "clf = SVC(kernel=\"linear\")\n",
    "clf.fit(xtrain, ytrain)\n",
    "cv_scores = cross_val_score(clf, xtrain, ytrain, cv=10)\n",
    "print('Average Cross Validation Score from Training:', cv_scores.mean(), sep='\\n', end='\\n\\n\\n')\n",
    "\n",
    "ypred = clf.predict(xtest)\n",
    "cm = confusion_matrix(ytest, ypred)\n",
    "cr = classification_report(ytest, ypred)\n",
    "\n",
    "print('Confusion Matrix:', cm, sep='\\n', end='\\n\\n\\n')\n",
    "print('Test Statistics:', cr, sep='\\n', end='\\n\\n\\n')\n",
    "\n",
    "print('Testing Accuracy:', accuracy_score(ytest, ypred))"
   ]
  },
  {
   "cell_type": "markdown",
   "id": "5ad47260",
   "metadata": {},
   "source": [
    "# Results"
   ]
  },
  {
   "cell_type": "markdown",
   "id": "ab03e826",
   "metadata": {},
   "source": [
    "## Choosing overlap for windowing"
   ]
  },
  {
   "cell_type": "markdown",
   "id": "ec276c70",
   "metadata": {},
   "source": [
    "An overlap of 80% is chosen, because it has the best training (k-cross validation) accuracy of the ones with a 100% testing accuracy for both models"
   ]
  },
  {
   "cell_type": "code",
   "execution_count": 18,
   "id": "6c854216",
   "metadata": {},
   "outputs": [
    {
     "data": {
      "image/png": "[encoded data removed]",
      "text/plain": [
       "<Figure size 432x288 with 1 Axes>"
      ]
     },
     "metadata": {
      "needs_background": "light"
     },
     "output_type": "display_data"
    }
   ],
   "source": [
    "import matplotlib.pyplot as plt\n",
    "\n",
    "overlaps = [0, 10, 20, 30, 40, 50, 60, 70, 80, 90]\n",
    "results_rf = [100, 100, 98.7, 100, 100, 100, 100, 98.7, 100, 100]\n",
    "results_svm = [92.8, 94.6, 96.2, 98.8, 97.8, 100, 99.2, 97.4, 100, 100]\n",
    "\n",
    "plt.plot(overlaps, results_svm, label='SVM')\n",
    "plt.plot(overlaps, results_rf, label='Random Forest')\n",
    "plt.xlabel(\"Overlap in %\")\n",
    "plt.ylabel(\"Testing accuracy in %\")\n",
    "plt.title(\"Comparison of different overlap sizes\")\n",
    "plt.legend()\n",
    "plt.show()"
   ]
  },
  {
   "cell_type": "markdown",
   "id": "96d94628",
   "metadata": {},
   "source": [
    "## Choosing binning size"
   ]
  },
  {
   "cell_type": "markdown",
   "id": "c3ee4008",
   "metadata": {},
   "source": [
    "45 bins per axis are chosen, because it has the best training (k-cross validation) accuracy of the ones with a 100% testing accuracy for both models"
   ]
  },
  {
   "cell_type": "code",
   "execution_count": 19,
   "id": "439ad06d",
   "metadata": {},
   "outputs": [
    {
     "data": {
      "image/png": "[encoded data removed]",
      "text/plain": [
       "<Figure size 432x288 with 1 Axes>"
      ]
     },
     "metadata": {
      "needs_background": "light"
     },
     "output_type": "display_data"
    }
   ],
   "source": [
    "import matplotlib.pyplot as plt\n",
    "\n",
    "binning_size = [5, 10, 15, 20, 25, 30, 35, 40, 45, 50]\n",
    "results_rf = [98.6, 99.5, 100, 100, 100, 100, 100, 100, 100, 100]\n",
    "results_svm = [95.0, 96.8, 97.2, 98.2, 99.5, 98.6, 98.6, 100, 100, 100]\n",
    "\n",
    "plt.plot(binning_size, results_svm, label='SVM')\n",
    "plt.plot(binning_size, results_rf, label='Random Forest')\n",
    "plt.xlabel(\"Number of bins (per axis)\")\n",
    "plt.ylabel(\"Testing accuracy in %\")\n",
    "plt.title(\"Comparison of different binning sizes\")\n",
    "plt.legend()\n",
    "plt.show()"
   ]
  },
  {
   "cell_type": "markdown",
   "id": "481b8466",
   "metadata": {},
   "source": [
    "# Data visualization (binned spectrograms)"
   ]
  },
  {
   "cell_type": "code",
   "execution_count": 20,
   "id": "45763a6b",
   "metadata": {},
   "outputs": [
    {
     "name": "stderr",
     "output_type": "stream",
     "text": [
      "C:\\Users\\Timmy\\AppData\\Local\\Temp\\ipykernel_15620\\3670946234.py:6: MatplotlibDeprecationWarning: You are modifying the state of a globally registered colormap. This has been deprecated since 3.3 and in 3.6, you will not be able to modify a registered colormap in-place. To remove this warning, you can make a copy of the colormap first. cmap = mpl.cm.get_cmap(\"bone\").copy()\n",
      "  cmap.set_under(color='k', alpha=None)\n"
     ]
    }
   ],
   "source": [
    "import numpy as np\n",
    "import matplotlib.pyplot as plt\n",
    "\n",
    "%matplotlib inline\n",
    "cmap=plt.cm.bone\n",
    "cmap.set_under(color='k', alpha=None)"
   ]
  },
  {
   "cell_type": "markdown",
   "id": "556941ff",
   "metadata": {},
   "source": [
    "## Walking"
   ]
  },
  {
   "cell_type": "markdown",
   "id": "86443609",
   "metadata": {},
   "source": [
    "### Accelerometer x"
   ]
  },
  {
   "cell_type": "code",
   "execution_count": 21,
   "id": "6bf74e78",
   "metadata": {},
   "outputs": [
    {
     "data": {
      "text/plain": [
       "<matplotlib.collections.QuadMesh at 0x1b064f8ce20>"
      ]
     },
     "execution_count": 21,
     "metadata": {},
     "output_type": "execute_result"
    },
    {
     "data": {
      "image/png": "[encoded data removed]",
      "text/plain": [
       "<Figure size 432x288 with 1 Axes>"
      ]
     },
     "metadata": {
      "needs_background": "light"
     },
     "output_type": "display_data"
    }
   ],
   "source": [
    "plt.pcolormesh(np.log10(data_spectrograms_binned[0][0][0][2]),cmap=cmap)"
   ]
  },
  {
   "cell_type": "markdown",
   "id": "81faa6fe",
   "metadata": {},
   "source": [
    "### Accelerometer y"
   ]
  },
  {
   "cell_type": "code",
   "execution_count": 22,
   "id": "6152e71a",
   "metadata": {},
   "outputs": [
    {
     "data": {
      "text/plain": [
       "<matplotlib.collections.QuadMesh at 0x1b04ab0ebe0>"
      ]
     },
     "execution_count": 22,
     "metadata": {},
     "output_type": "execute_result"
    },
    {
     "data": {
      "image/png": "[encoded data removed]",
      "text/plain": [
       "<Figure size 432x288 with 1 Axes>"
      ]
     },
     "metadata": {
      "needs_background": "light"
     },
     "output_type": "display_data"
    }
   ],
   "source": [
    "plt.pcolormesh(np.log10(data_spectrograms_binned[0][0][1][2]),cmap=cmap)"
   ]
  },
  {
   "cell_type": "markdown",
   "id": "51a417e7",
   "metadata": {},
   "source": [
    "### Accelerometer z"
   ]
  },
  {
   "cell_type": "code",
   "execution_count": 23,
   "id": "67625a00",
   "metadata": {},
   "outputs": [
    {
     "data": {
      "text/plain": [
       "<matplotlib.collections.QuadMesh at 0x1b04ab80a30>"
      ]
     },
     "execution_count": 23,
     "metadata": {},
     "output_type": "execute_result"
    },
    {
     "data": {
      "image/png": "[encoded data removed]",
      "text/plain": [
       "<Figure size 432x288 with 1 Axes>"
      ]
     },
     "metadata": {
      "needs_background": "light"
     },
     "output_type": "display_data"
    }
   ],
   "source": [
    "plt.pcolormesh(np.log10(data_spectrograms_binned[0][0][2][2]),cmap=cmap)"
   ]
  },
  {
   "cell_type": "markdown",
   "id": "6b765c03",
   "metadata": {},
   "source": [
    "### Gyroscope x"
   ]
  },
  {
   "cell_type": "code",
   "execution_count": 24,
   "id": "9e3a9c67",
   "metadata": {
    "scrolled": true
   },
   "outputs": [
    {
     "data": {
      "text/plain": [
       "<matplotlib.collections.QuadMesh at 0x1b04abf68e0>"
      ]
     },
     "execution_count": 24,
     "metadata": {},
     "output_type": "execute_result"
    },
    {
     "data": {
      "image/png": "[encoded data removed]",
      "text/plain": [
       "<Figure size 432x288 with 1 Axes>"
      ]
     },
     "metadata": {
      "needs_background": "light"
     },
     "output_type": "display_data"
    }
   ],
   "source": [
    "plt.pcolormesh(np.log10(data_spectrograms_binned[0][0][3][2]),cmap=cmap)"
   ]
  },
  {
   "cell_type": "markdown",
   "id": "2233a9c4",
   "metadata": {},
   "source": [
    "### Gyroscope y"
   ]
  },
  {
   "cell_type": "code",
   "execution_count": 25,
   "id": "1f7e4e82",
   "metadata": {},
   "outputs": [
    {
     "data": {
      "text/plain": [
       "<matplotlib.collections.QuadMesh at 0x1b04ac6b820>"
      ]
     },
     "execution_count": 25,
     "metadata": {},
     "output_type": "execute_result"
    },
    {
     "data": {
      "image/png": "[encoded data removed]",
      "text/plain": [
       "<Figure size 432x288 with 1 Axes>"
      ]
     },
     "metadata": {
      "needs_background": "light"
     },
     "output_type": "display_data"
    }
   ],
   "source": [
    "plt.pcolormesh(np.log10(data_spectrograms_binned[0][0][4][2]),cmap=cmap)"
   ]
  },
  {
   "cell_type": "markdown",
   "id": "557d1854",
   "metadata": {},
   "source": [
    "### Gyroscope z"
   ]
  },
  {
   "cell_type": "code",
   "execution_count": 26,
   "id": "051fa2d5",
   "metadata": {},
   "outputs": [
    {
     "data": {
      "text/plain": [
       "<matplotlib.collections.QuadMesh at 0x1b04ace1490>"
      ]
     },
     "execution_count": 26,
     "metadata": {},
     "output_type": "execute_result"
    },
    {
     "data": {
      "image/png": "[encoded data removed]",
      "text/plain": [
       "<Figure size 432x288 with 1 Axes>"
      ]
     },
     "metadata": {
      "needs_background": "light"
     },
     "output_type": "display_data"
    }
   ],
   "source": [
    "plt.pcolormesh(np.log10(data_spectrograms_binned[0][0][5][2]),cmap=cmap)"
   ]
  },
  {
   "cell_type": "markdown",
   "id": "cba50cc6",
   "metadata": {},
   "source": [
    "## Rowing"
   ]
  },
  {
   "cell_type": "markdown",
   "id": "1071ec45",
   "metadata": {},
   "source": [
    "### Accelerometer x"
   ]
  },
  {
   "cell_type": "code",
   "execution_count": 27,
   "id": "882b94cd",
   "metadata": {},
   "outputs": [
    {
     "data": {
      "text/plain": [
       "<matplotlib.collections.QuadMesh at 0x1b064f455e0>"
      ]
     },
     "execution_count": 27,
     "metadata": {},
     "output_type": "execute_result"
    },
    {
     "data": {
      "image/png": "[encoded data removed]",
      "text/plain": [
       "<Figure size 432x288 with 1 Axes>"
      ]
     },
     "metadata": {
      "needs_background": "light"
     },
     "output_type": "display_data"
    }
   ],
   "source": [
    "plt.pcolormesh(np.log10(data_spectrograms_binned[1][0][0][2]),cmap=cmap)"
   ]
  },
  {
   "cell_type": "markdown",
   "id": "b7729460",
   "metadata": {},
   "source": [
    "### Accelerometer y"
   ]
  },
  {
   "cell_type": "code",
   "execution_count": 28,
   "id": "23379bac",
   "metadata": {},
   "outputs": [
    {
     "data": {
      "text/plain": [
       "<matplotlib.collections.QuadMesh at 0x1b064f452e0>"
      ]
     },
     "execution_count": 28,
     "metadata": {},
     "output_type": "execute_result"
    },
    {
     "data": {
      "image/png": "[encoded data removed]",
      "text/plain": [
       "<Figure size 432x288 with 1 Axes>"
      ]
     },
     "metadata": {
      "needs_background": "light"
     },
     "output_type": "display_data"
    }
   ],
   "source": [
    "plt.pcolormesh(np.log10(data_spectrograms_binned[1][0][1][2]),cmap=cmap)"
   ]
  },
  {
   "cell_type": "markdown",
   "id": "66078b4c",
   "metadata": {},
   "source": [
    "### Accelerometer z"
   ]
  },
  {
   "cell_type": "code",
   "execution_count": 29,
   "id": "38f6a197",
   "metadata": {},
   "outputs": [
    {
     "data": {
      "text/plain": [
       "<matplotlib.collections.QuadMesh at 0x1b0664af190>"
      ]
     },
     "execution_count": 29,
     "metadata": {},
     "output_type": "execute_result"
    },
    {
     "data": {
      "image/png": "[encoded data removed]",
      "text/plain": [
       "<Figure size 432x288 with 1 Axes>"
      ]
     },
     "metadata": {
      "needs_background": "light"
     },
     "output_type": "display_data"
    }
   ],
   "source": [
    "plt.pcolormesh(np.log10(data_spectrograms_binned[1][0][2][2]),cmap=cmap)"
   ]
  },
  {
   "cell_type": "markdown",
   "id": "88331e83",
   "metadata": {},
   "source": [
    "### Gyroscope x"
   ]
  },
  {
   "cell_type": "code",
   "execution_count": 30,
   "id": "27ebaec2",
   "metadata": {
    "scrolled": true
   },
   "outputs": [
    {
     "data": {
      "text/plain": [
       "<matplotlib.collections.QuadMesh at 0x1b066523160>"
      ]
     },
     "execution_count": 30,
     "metadata": {},
     "output_type": "execute_result"
    },
    {
     "data": {
      "image/png": "[encoded data removed]",
      "text/plain": [
       "<Figure size 432x288 with 1 Axes>"
      ]
     },
     "metadata": {
      "needs_background": "light"
     },
     "output_type": "display_data"
    }
   ],
   "source": [
    "plt.pcolormesh(np.log10(data_spectrograms_binned[1][0][3][2]),cmap=cmap)"
   ]
  },
  {
   "cell_type": "markdown",
   "id": "2c656f56",
   "metadata": {},
   "source": [
    "### Gyroscope y"
   ]
  },
  {
   "cell_type": "code",
   "execution_count": 31,
   "id": "6d9de99a",
   "metadata": {},
   "outputs": [
    {
     "data": {
      "text/plain": [
       "<matplotlib.collections.QuadMesh at 0x1b06658cb20>"
      ]
     },
     "execution_count": 31,
     "metadata": {},
     "output_type": "execute_result"
    },
    {
     "data": {
      "image/png": "[encoded data removed]",
      "text/plain": [
       "<Figure size 432x288 with 1 Axes>"
      ]
     },
     "metadata": {
      "needs_background": "light"
     },
     "output_type": "display_data"
    }
   ],
   "source": [
    "plt.pcolormesh(np.log10(data_spectrograms_binned[1][0][4][2]),cmap=cmap)"
   ]
  },
  {
   "cell_type": "markdown",
   "id": "eaeb627b",
   "metadata": {},
   "source": [
    "### Gyroscope z"
   ]
  },
  {
   "cell_type": "code",
   "execution_count": 32,
   "id": "fc6aa1fb",
   "metadata": {},
   "outputs": [
    {
     "data": {
      "text/plain": [
       "<matplotlib.collections.QuadMesh at 0x1b0665feb20>"
      ]
     },
     "execution_count": 32,
     "metadata": {},
     "output_type": "execute_result"
    },
    {
     "data": {
      "image/png": "[encoded data removed]",
      "text/plain": [
       "<Figure size 432x288 with 1 Axes>"
      ]
     },
     "metadata": {
      "needs_background": "light"
     },
     "output_type": "display_data"
    }
   ],
   "source": [
    "plt.pcolormesh(np.log10(data_spectrograms_binned[1][0][5][2]),cmap=cmap)"
   ]
  },
  {
   "cell_type": "markdown",
   "id": "0d0adeb3",
   "metadata": {},
   "source": [
    "## Climbing down"
   ]
  },
  {
   "cell_type": "markdown",
   "id": "e395f8ce",
   "metadata": {},
   "source": [
    "### Accelerometer x"
   ]
  },
  {
   "cell_type": "code",
   "execution_count": 33,
   "id": "f8a84c76",
   "metadata": {},
   "outputs": [
    {
     "data": {
      "text/plain": [
       "<matplotlib.collections.QuadMesh at 0x1b0666726a0>"
      ]
     },
     "execution_count": 33,
     "metadata": {},
     "output_type": "execute_result"
    },
    {
     "data": {
      "image/png": "[encoded data removed]",
      "text/plain": [
       "<Figure size 432x288 with 1 Axes>"
      ]
     },
     "metadata": {
      "needs_background": "light"
     },
     "output_type": "display_data"
    }
   ],
   "source": [
    "plt.pcolormesh(np.log10(data_spectrograms_binned[2][0][0][2]),cmap=cmap)"
   ]
  },
  {
   "cell_type": "markdown",
   "id": "c94c5ec0",
   "metadata": {},
   "source": [
    "### Accelerometer y"
   ]
  },
  {
   "cell_type": "code",
   "execution_count": 34,
   "id": "ce823883",
   "metadata": {},
   "outputs": [
    {
     "data": {
      "text/plain": [
       "<matplotlib.collections.QuadMesh at 0x1b0666e6520>"
      ]
     },
     "execution_count": 34,
     "metadata": {},
     "output_type": "execute_result"
    },
    {
     "data": {
      "image/png": "[encoded data removed]",
      "text/plain": [
       "<Figure size 432x288 with 1 Axes>"
      ]
     },
     "metadata": {
      "needs_background": "light"
     },
     "output_type": "display_data"
    }
   ],
   "source": [
    "plt.pcolormesh(np.log10(data_spectrograms_binned[2][0][1][2]),cmap=cmap)"
   ]
  },
  {
   "cell_type": "markdown",
   "id": "2bb3f028",
   "metadata": {},
   "source": [
    "### Accelerometer z"
   ]
  },
  {
   "cell_type": "code",
   "execution_count": 35,
   "id": "73d8c5bf",
   "metadata": {},
   "outputs": [
    {
     "data": {
      "text/plain": [
       "<matplotlib.collections.QuadMesh at 0x1b0666fe580>"
      ]
     },
     "execution_count": 35,
     "metadata": {},
     "output_type": "execute_result"
    },
    {
     "data": {
      "image/png": "[encoded data removed]",
      "text/plain": [
       "<Figure size 432x288 with 1 Axes>"
      ]
     },
     "metadata": {
      "needs_background": "light"
     },
     "output_type": "display_data"
    }
   ],
   "source": [
    "plt.pcolormesh(np.log10(data_spectrograms_binned[2][0][2][2]),cmap=cmap)"
   ]
  },
  {
   "cell_type": "markdown",
   "id": "d5c7da9a",
   "metadata": {},
   "source": [
    "### Gyroscope x"
   ]
  },
  {
   "cell_type": "code",
   "execution_count": 36,
   "id": "f461baf7",
   "metadata": {
    "scrolled": true
   },
   "outputs": [
    {
     "data": {
      "text/plain": [
       "<matplotlib.collections.QuadMesh at 0x1b0667c5e20>"
      ]
     },
     "execution_count": 36,
     "metadata": {},
     "output_type": "execute_result"
    },
    {
     "data": {
      "image/png": "[encoded data removed]",
      "text/plain": [
       "<Figure size 432x288 with 1 Axes>"
      ]
     },
     "metadata": {
      "needs_background": "light"
     },
     "output_type": "display_data"
    }
   ],
   "source": [
    "plt.pcolormesh(np.log10(data_spectrograms_binned[2][0][3][2]),cmap=cmap)"
   ]
  },
  {
   "cell_type": "markdown",
   "id": "c69f6563",
   "metadata": {},
   "source": [
    "### Gyroscope y"
   ]
  },
  {
   "cell_type": "code",
   "execution_count": 37,
   "id": "a2a75094",
   "metadata": {},
   "outputs": [
    {
     "data": {
      "text/plain": [
       "<matplotlib.collections.QuadMesh at 0x1b066838c40>"
      ]
     },
     "execution_count": 37,
     "metadata": {},
     "output_type": "execute_result"
    },
    {
     "data": {
      "image/png": "[encoded data removed]",
      "text/plain": [
       "<Figure size 432x288 with 1 Axes>"
      ]
     },
     "metadata": {
      "needs_background": "light"
     },
     "output_type": "display_data"
    }
   ],
   "source": [
    "plt.pcolormesh(np.log10(data_spectrograms_binned[2][0][4][2]),cmap=cmap)"
   ]
  },
  {
   "cell_type": "markdown",
   "id": "edcef40a",
   "metadata": {},
   "source": [
    "### Gyroscope z"
   ]
  },
  {
   "cell_type": "code",
   "execution_count": 38,
   "id": "58fadf42",
   "metadata": {},
   "outputs": [
    {
     "data": {
      "text/plain": [
       "<matplotlib.collections.QuadMesh at 0x1b0666360a0>"
      ]
     },
     "execution_count": 38,
     "metadata": {},
     "output_type": "execute_result"
    },
    {
     "data": {
      "image/png": "[encoded data removed]",
      "text/plain": [
       "<Figure size 432x288 with 1 Axes>"
      ]
     },
     "metadata": {
      "needs_background": "light"
     },
     "output_type": "display_data"
    }
   ],
   "source": [
    "plt.pcolormesh(np.log10(data_spectrograms_binned[2][0][5][2]),cmap=cmap)"
   ]
  },
  {
   "cell_type": "markdown",
   "id": "18da338a",
   "metadata": {},
   "source": [
    "## Climbing up"
   ]
  },
  {
   "cell_type": "markdown",
   "id": "3471fe70",
   "metadata": {},
   "source": [
    "### Accelerometer x"
   ]
  },
  {
   "cell_type": "code",
   "execution_count": 39,
   "id": "d7a6df3d",
   "metadata": {},
   "outputs": [
    {
     "data": {
      "text/plain": [
       "<matplotlib.collections.QuadMesh at 0x1b066921af0>"
      ]
     },
     "execution_count": 39,
     "metadata": {},
     "output_type": "execute_result"
    },
    {
     "data": {
      "image/png": "[encoded data removed]",
      "text/plain": [
       "<Figure size 432x288 with 1 Axes>"
      ]
     },
     "metadata": {
      "needs_background": "light"
     },
     "output_type": "display_data"
    }
   ],
   "source": [
    "plt.pcolormesh(np.log10(data_spectrograms_binned[3][0][0][2]),cmap=cmap)"
   ]
  },
  {
   "cell_type": "markdown",
   "id": "95d4b849",
   "metadata": {},
   "source": [
    "### Accelerometer y"
   ]
  },
  {
   "cell_type": "code",
   "execution_count": 40,
   "id": "c62c8fd2",
   "metadata": {},
   "outputs": [
    {
     "data": {
      "text/plain": [
       "<matplotlib.collections.QuadMesh at 0x1b0669945b0>"
      ]
     },
     "execution_count": 40,
     "metadata": {},
     "output_type": "execute_result"
    },
    {
     "data": {
      "image/png": "[encoded data removed]",
      "text/plain": [
       "<Figure size 432x288 with 1 Axes>"
      ]
     },
     "metadata": {
      "needs_background": "light"
     },
     "output_type": "display_data"
    }
   ],
   "source": [
    "plt.pcolormesh(np.log10(data_spectrograms_binned[3][0][1][2]),cmap=cmap)"
   ]
  },
  {
   "cell_type": "markdown",
   "id": "37b0272c",
   "metadata": {},
   "source": [
    "### Accelerometer z"
   ]
  },
  {
   "cell_type": "code",
   "execution_count": 41,
   "id": "d5741fa0",
   "metadata": {},
   "outputs": [
    {
     "data": {
      "text/plain": [
       "<matplotlib.collections.QuadMesh at 0x1b066a09130>"
      ]
     },
     "execution_count": 41,
     "metadata": {},
     "output_type": "execute_result"
    },
    {
     "data": {
      "image/png": "[encoded data removed]",
      "text/plain": [
       "<Figure size 432x288 with 1 Axes>"
      ]
     },
     "metadata": {
      "needs_background": "light"
     },
     "output_type": "display_data"
    }
   ],
   "source": [
    "plt.pcolormesh(np.log10(data_spectrograms_binned[3][0][2][2]),cmap=cmap)"
   ]
  },
  {
   "cell_type": "markdown",
   "id": "c2785f79",
   "metadata": {},
   "source": [
    "### Gyroscope x"
   ]
  },
  {
   "cell_type": "code",
   "execution_count": 42,
   "id": "58560495",
   "metadata": {
    "scrolled": true
   },
   "outputs": [
    {
     "data": {
      "text/plain": [
       "<matplotlib.collections.QuadMesh at 0x1b066a71e50>"
      ]
     },
     "execution_count": 42,
     "metadata": {},
     "output_type": "execute_result"
    },
    {
     "data": {
      "image/png": "[encoded data removed]",
      "text/plain": [
       "<Figure size 432x288 with 1 Axes>"
      ]
     },
     "metadata": {
      "needs_background": "light"
     },
     "output_type": "display_data"
    }
   ],
   "source": [
    "plt.pcolormesh(np.log10(data_spectrograms_binned[3][0][3][2]),cmap=cmap)"
   ]
  },
  {
   "cell_type": "markdown",
   "id": "f88c6b1d",
   "metadata": {},
   "source": [
    "### Gyroscope y"
   ]
  },
  {
   "cell_type": "code",
   "execution_count": 43,
   "id": "c8154791",
   "metadata": {},
   "outputs": [
    {
     "data": {
      "text/plain": [
       "<matplotlib.collections.QuadMesh at 0x1b066ae5a00>"
      ]
     },
     "execution_count": 43,
     "metadata": {},
     "output_type": "execute_result"
    },
    {
     "data": {
      "image/png": "[encoded data removed]",
      "text/plain": [
       "<Figure size 432x288 with 1 Axes>"
      ]
     },
     "metadata": {
      "needs_background": "light"
     },
     "output_type": "display_data"
    }
   ],
   "source": [
    "plt.pcolormesh(np.log10(data_spectrograms_binned[3][0][4][2]),cmap=cmap)"
   ]
  },
  {
   "cell_type": "markdown",
   "id": "eb539892",
   "metadata": {},
   "source": [
    "### Gyroscope z"
   ]
  },
  {
   "cell_type": "code",
   "execution_count": 44,
   "id": "7a1348a7",
   "metadata": {},
   "outputs": [
    {
     "data": {
      "text/plain": [
       "<matplotlib.collections.QuadMesh at 0x1b066b5a7f0>"
      ]
     },
     "execution_count": 44,
     "metadata": {},
     "output_type": "execute_result"
    },
    {
     "data": {
      "image/png": "[encoded data removed]",
      "text/plain": [
       "<Figure size 432x288 with 1 Axes>"
      ]
     },
     "metadata": {
      "needs_background": "light"
     },
     "output_type": "display_data"
    }
   ],
   "source": [
    "plt.pcolormesh(np.log10(data_spectrograms_binned[3][0][5][2]),cmap=cmap)"
   ]
  },
  {
   "cell_type": "markdown",
   "id": "66d0c8c7",
   "metadata": {},
   "source": [
    "## Standing"
   ]
  },
  {
   "cell_type": "markdown",
   "id": "7964ff94",
   "metadata": {},
   "source": [
    "### Accelerometer x"
   ]
  },
  {
   "cell_type": "code",
   "execution_count": 45,
   "id": "21b189cd",
   "metadata": {},
   "outputs": [
    {
     "data": {
      "text/plain": [
       "<matplotlib.collections.QuadMesh at 0x1b066ac3a00>"
      ]
     },
     "execution_count": 45,
     "metadata": {},
     "output_type": "execute_result"
    },
    {
     "data": {
      "image/png": "[encoded data removed]",
      "text/plain": [
       "<Figure size 432x288 with 1 Axes>"
      ]
     },
     "metadata": {
      "needs_background": "light"
     },
     "output_type": "display_data"
    }
   ],
   "source": [
    "plt.pcolormesh(np.log10(data_spectrograms_binned[4][0][0][2]),cmap=cmap)"
   ]
  },
  {
   "cell_type": "markdown",
   "id": "1d76db26",
   "metadata": {},
   "source": [
    "### Accelerometer y"
   ]
  },
  {
   "cell_type": "code",
   "execution_count": 46,
   "id": "4d31e47c",
   "metadata": {},
   "outputs": [
    {
     "data": {
      "text/plain": [
       "<matplotlib.collections.QuadMesh at 0x1b066c371f0>"
      ]
     },
     "execution_count": 46,
     "metadata": {},
     "output_type": "execute_result"
    },
    {
     "data": {
      "image/png": "[encoded data removed]",
      "text/plain": [
       "<Figure size 432x288 with 1 Axes>"
      ]
     },
     "metadata": {
      "needs_background": "light"
     },
     "output_type": "display_data"
    }
   ],
   "source": [
    "plt.pcolormesh(np.log10(data_spectrograms_binned[4][0][1][2]),cmap=cmap)"
   ]
  },
  {
   "cell_type": "markdown",
   "id": "c2bccfe0",
   "metadata": {},
   "source": [
    "### Accelerometer z"
   ]
  },
  {
   "cell_type": "code",
   "execution_count": 47,
   "id": "415412b1",
   "metadata": {},
   "outputs": [
    {
     "data": {
      "text/plain": [
       "<matplotlib.collections.QuadMesh at 0x1b066ca7e80>"
      ]
     },
     "execution_count": 47,
     "metadata": {},
     "output_type": "execute_result"
    },
    {
     "data": {
      "image/png": "[encoded data removed]",
      "text/plain": [
       "<Figure size 432x288 with 1 Axes>"
      ]
     },
     "metadata": {
      "needs_background": "light"
     },
     "output_type": "display_data"
    }
   ],
   "source": [
    "plt.pcolormesh(np.log10(data_spectrograms_binned[4][0][2][2]),cmap=cmap)"
   ]
  },
  {
   "cell_type": "markdown",
   "id": "76505258",
   "metadata": {},
   "source": [
    "### Gyroscope x"
   ]
  },
  {
   "cell_type": "code",
   "execution_count": 48,
   "id": "483052f1",
   "metadata": {
    "scrolled": true
   },
   "outputs": [
    {
     "data": {
      "text/plain": [
       "<matplotlib.collections.QuadMesh at 0x1b066d1ad90>"
      ]
     },
     "execution_count": 48,
     "metadata": {},
     "output_type": "execute_result"
    },
    {
     "data": {
      "image/png": "[encoded data removed]",
      "text/plain": [
       "<Figure size 432x288 with 1 Axes>"
      ]
     },
     "metadata": {
      "needs_background": "light"
     },
     "output_type": "display_data"
    }
   ],
   "source": [
    "plt.pcolormesh(np.log10(data_spectrograms_binned[4][0][3][2]),cmap=cmap)"
   ]
  },
  {
   "cell_type": "markdown",
   "id": "91d17568",
   "metadata": {},
   "source": [
    "### Gyroscope y"
   ]
  },
  {
   "cell_type": "code",
   "execution_count": 49,
   "id": "d57bac8e",
   "metadata": {},
   "outputs": [
    {
     "data": {
      "text/plain": [
       "<matplotlib.collections.QuadMesh at 0x1b066d8cb20>"
      ]
     },
     "execution_count": 49,
     "metadata": {},
     "output_type": "execute_result"
    },
    {
     "data": {
      "image/png": "[encoded data removed]",
      "text/plain": [
       "<Figure size 432x288 with 1 Axes>"
      ]
     },
     "metadata": {
      "needs_background": "light"
     },
     "output_type": "display_data"
    }
   ],
   "source": [
    "plt.pcolormesh(np.log10(data_spectrograms_binned[4][0][4][2]),cmap=cmap)"
   ]
  },
  {
   "cell_type": "markdown",
   "id": "82d5caf8",
   "metadata": {},
   "source": [
    "### Gyroscope z"
   ]
  },
  {
   "cell_type": "code",
   "execution_count": 50,
   "id": "d64a2d44",
   "metadata": {},
   "outputs": [
    {
     "data": {
      "text/plain": [
       "<matplotlib.collections.QuadMesh at 0x1b066df77f0>"
      ]
     },
     "execution_count": 50,
     "metadata": {},
     "output_type": "execute_result"
    },
    {
     "data": {
      "image/png": "[encoded data removed]",
      "text/plain": [
       "<Figure size 432x288 with 1 Axes>"
      ]
     },
     "metadata": {
      "needs_background": "light"
     },
     "output_type": "display_data"
    }
   ],
   "source": [
    "plt.pcolormesh(np.log10(data_spectrograms_binned[4][0][5][2]),cmap=cmap)"
   ]
  }
 ],
 "metadata": {
  "kernelspec": {
   "display_name": "Python 3 (ipykernel)",
   "language": "python",
   "name": "python3"
  },
  "language_info": {
   "codemirror_mode": {
    "name": "ipython",
    "version": 3
   },
   "file_extension": ".py",
   "mimetype": "text/x-python",
   "name": "python",
   "nbconvert_exporter": "python",
   "pygments_lexer": "ipython3",
   "version": "3.9.12"
  }
 },
 "nbformat": 4,
 "nbformat_minor": 5
}
