{
 "cells": [
  {
   "cell_type": "markdown",
   "id": "51500508",
   "metadata": {},
   "source": [
    "# Imports"
   ]
  },
  {
   "cell_type": "code",
   "execution_count": 1,
   "id": "3fd7173b",
   "metadata": {},
   "outputs": [],
   "source": [
    "import numpy as np\n",
    "import pandas as pd"
   ]
  },
  {
   "cell_type": "markdown",
   "id": "546f6ec8",
   "metadata": {},
   "source": [
    "# Data Collection, Preprocessing and Cleansing"
   ]
  },
  {
   "cell_type": "markdown",
   "id": "4d3a3edb",
   "metadata": {},
   "source": [
    "## Reading in data"
   ]
  },
  {
   "cell_type": "markdown",
   "id": "36d52b2a",
   "metadata": {},
   "source": [
    "### Climbing down"
   ]
  },
  {
   "cell_type": "code",
   "execution_count": 2,
   "id": "98b86a21",
   "metadata": {
    "scrolled": false
   },
   "outputs": [
    {
     "name": "stderr",
     "output_type": "stream",
     "text": [
      "C:\\Users\\Timmy\\AppData\\Local\\Temp\\ipykernel_5112\\1783999225.py:19: FutureWarning: The frame.append method is deprecated and will be removed from pandas in a future version. Use pandas.concat instead.\n",
      "  Climbing_down = Climbing_down.append(Climbing)\n",
      "C:\\Users\\Timmy\\AppData\\Local\\Temp\\ipykernel_5112\\1783999225.py:19: FutureWarning: The frame.append method is deprecated and will be removed from pandas in a future version. Use pandas.concat instead.\n",
      "  Climbing_down = Climbing_down.append(Climbing)\n",
      "C:\\Users\\Timmy\\AppData\\Local\\Temp\\ipykernel_5112\\1783999225.py:19: FutureWarning: The frame.append method is deprecated and will be removed from pandas in a future version. Use pandas.concat instead.\n",
      "  Climbing_down = Climbing_down.append(Climbing)\n",
      "C:\\Users\\Timmy\\AppData\\Local\\Temp\\ipykernel_5112\\1783999225.py:19: FutureWarning: The frame.append method is deprecated and will be removed from pandas in a future version. Use pandas.concat instead.\n",
      "  Climbing_down = Climbing_down.append(Climbing)\n",
      "C:\\Users\\Timmy\\AppData\\Local\\Temp\\ipykernel_5112\\1783999225.py:19: FutureWarning: The frame.append method is deprecated and will be removed from pandas in a future version. Use pandas.concat instead.\n",
      "  Climbing_down = Climbing_down.append(Climbing)\n",
      "C:\\Users\\Timmy\\AppData\\Local\\Temp\\ipykernel_5112\\1783999225.py:19: FutureWarning: The frame.append method is deprecated and will be removed from pandas in a future version. Use pandas.concat instead.\n",
      "  Climbing_down = Climbing_down.append(Climbing)\n",
      "C:\\Users\\Timmy\\AppData\\Local\\Temp\\ipykernel_5112\\1783999225.py:19: FutureWarning: The frame.append method is deprecated and will be removed from pandas in a future version. Use pandas.concat instead.\n",
      "  Climbing_down = Climbing_down.append(Climbing)\n",
      "C:\\Users\\Timmy\\AppData\\Local\\Temp\\ipykernel_5112\\1783999225.py:19: FutureWarning: The frame.append method is deprecated and will be removed from pandas in a future version. Use pandas.concat instead.\n",
      "  Climbing_down = Climbing_down.append(Climbing)\n",
      "C:\\Users\\Timmy\\AppData\\Local\\Temp\\ipykernel_5112\\1783999225.py:19: FutureWarning: The frame.append method is deprecated and will be removed from pandas in a future version. Use pandas.concat instead.\n",
      "  Climbing_down = Climbing_down.append(Climbing)\n",
      "C:\\Users\\Timmy\\AppData\\Local\\Temp\\ipykernel_5112\\1783999225.py:19: FutureWarning: The frame.append method is deprecated and will be removed from pandas in a future version. Use pandas.concat instead.\n",
      "  Climbing_down = Climbing_down.append(Climbing)\n",
      "C:\\Users\\Timmy\\AppData\\Local\\Temp\\ipykernel_5112\\1783999225.py:19: FutureWarning: The frame.append method is deprecated and will be removed from pandas in a future version. Use pandas.concat instead.\n",
      "  Climbing_down = Climbing_down.append(Climbing)\n",
      "C:\\Users\\Timmy\\AppData\\Local\\Temp\\ipykernel_5112\\1783999225.py:19: FutureWarning: The frame.append method is deprecated and will be removed from pandas in a future version. Use pandas.concat instead.\n",
      "  Climbing_down = Climbing_down.append(Climbing)\n",
      "C:\\Users\\Timmy\\AppData\\Local\\Temp\\ipykernel_5112\\1783999225.py:19: FutureWarning: The frame.append method is deprecated and will be removed from pandas in a future version. Use pandas.concat instead.\n",
      "  Climbing_down = Climbing_down.append(Climbing)\n",
      "C:\\Users\\Timmy\\AppData\\Local\\Temp\\ipykernel_5112\\1783999225.py:19: FutureWarning: The frame.append method is deprecated and will be removed from pandas in a future version. Use pandas.concat instead.\n",
      "  Climbing_down = Climbing_down.append(Climbing)\n",
      "C:\\Users\\Timmy\\AppData\\Local\\Temp\\ipykernel_5112\\1783999225.py:19: FutureWarning: The frame.append method is deprecated and will be removed from pandas in a future version. Use pandas.concat instead.\n",
      "  Climbing_down = Climbing_down.append(Climbing)\n",
      "C:\\Users\\Timmy\\AppData\\Local\\Temp\\ipykernel_5112\\1783999225.py:19: FutureWarning: The frame.append method is deprecated and will be removed from pandas in a future version. Use pandas.concat instead.\n",
      "  Climbing_down = Climbing_down.append(Climbing)\n",
      "C:\\Users\\Timmy\\AppData\\Local\\Temp\\ipykernel_5112\\1783999225.py:19: FutureWarning: The frame.append method is deprecated and will be removed from pandas in a future version. Use pandas.concat instead.\n",
      "  Climbing_down = Climbing_down.append(Climbing)\n",
      "C:\\Users\\Timmy\\AppData\\Local\\Temp\\ipykernel_5112\\1783999225.py:19: FutureWarning: The frame.append method is deprecated and will be removed from pandas in a future version. Use pandas.concat instead.\n",
      "  Climbing_down = Climbing_down.append(Climbing)\n",
      "C:\\Users\\Timmy\\AppData\\Local\\Temp\\ipykernel_5112\\1783999225.py:19: FutureWarning: The frame.append method is deprecated and will be removed from pandas in a future version. Use pandas.concat instead.\n",
      "  Climbing_down = Climbing_down.append(Climbing)\n",
      "C:\\Users\\Timmy\\AppData\\Local\\Temp\\ipykernel_5112\\1783999225.py:19: FutureWarning: The frame.append method is deprecated and will be removed from pandas in a future version. Use pandas.concat instead.\n",
      "  Climbing_down = Climbing_down.append(Climbing)\n",
      "C:\\Users\\Timmy\\AppData\\Local\\Temp\\ipykernel_5112\\1783999225.py:19: FutureWarning: The frame.append method is deprecated and will be removed from pandas in a future version. Use pandas.concat instead.\n",
      "  Climbing_down = Climbing_down.append(Climbing)\n",
      "C:\\Users\\Timmy\\AppData\\Local\\Temp\\ipykernel_5112\\1783999225.py:19: FutureWarning: The frame.append method is deprecated and will be removed from pandas in a future version. Use pandas.concat instead.\n",
      "  Climbing_down = Climbing_down.append(Climbing)\n",
      "C:\\Users\\Timmy\\AppData\\Local\\Temp\\ipykernel_5112\\1783999225.py:19: FutureWarning: The frame.append method is deprecated and will be removed from pandas in a future version. Use pandas.concat instead.\n",
      "  Climbing_down = Climbing_down.append(Climbing)\n",
      "C:\\Users\\Timmy\\AppData\\Local\\Temp\\ipykernel_5112\\1783999225.py:19: FutureWarning: The frame.append method is deprecated and will be removed from pandas in a future version. Use pandas.concat instead.\n",
      "  Climbing_down = Climbing_down.append(Climbing)\n",
      "C:\\Users\\Timmy\\AppData\\Local\\Temp\\ipykernel_5112\\1783999225.py:19: FutureWarning: The frame.append method is deprecated and will be removed from pandas in a future version. Use pandas.concat instead.\n",
      "  Climbing_down = Climbing_down.append(Climbing)\n",
      "C:\\Users\\Timmy\\AppData\\Local\\Temp\\ipykernel_5112\\1783999225.py:19: FutureWarning: The frame.append method is deprecated and will be removed from pandas in a future version. Use pandas.concat instead.\n",
      "  Climbing_down = Climbing_down.append(Climbing)\n",
      "C:\\Users\\Timmy\\AppData\\Local\\Temp\\ipykernel_5112\\1783999225.py:19: FutureWarning: The frame.append method is deprecated and will be removed from pandas in a future version. Use pandas.concat instead.\n",
      "  Climbing_down = Climbing_down.append(Climbing)\n",
      "C:\\Users\\Timmy\\AppData\\Local\\Temp\\ipykernel_5112\\1783999225.py:19: FutureWarning: The frame.append method is deprecated and will be removed from pandas in a future version. Use pandas.concat instead.\n",
      "  Climbing_down = Climbing_down.append(Climbing)\n",
      "C:\\Users\\Timmy\\AppData\\Local\\Temp\\ipykernel_5112\\1783999225.py:19: FutureWarning: The frame.append method is deprecated and will be removed from pandas in a future version. Use pandas.concat instead.\n",
      "  Climbing_down = Climbing_down.append(Climbing)\n",
      "C:\\Users\\Timmy\\AppData\\Local\\Temp\\ipykernel_5112\\1783999225.py:19: FutureWarning: The frame.append method is deprecated and will be removed from pandas in a future version. Use pandas.concat instead.\n",
      "  Climbing_down = Climbing_down.append(Climbing)\n",
      "C:\\Users\\Timmy\\AppData\\Local\\Temp\\ipykernel_5112\\1783999225.py:19: FutureWarning: The frame.append method is deprecated and will be removed from pandas in a future version. Use pandas.concat instead.\n",
      "  Climbing_down = Climbing_down.append(Climbing)\n",
      "C:\\Users\\Timmy\\AppData\\Local\\Temp\\ipykernel_5112\\1783999225.py:19: FutureWarning: The frame.append method is deprecated and will be removed from pandas in a future version. Use pandas.concat instead.\n",
      "  Climbing_down = Climbing_down.append(Climbing)\n",
      "C:\\Users\\Timmy\\AppData\\Local\\Temp\\ipykernel_5112\\1783999225.py:19: FutureWarning: The frame.append method is deprecated and will be removed from pandas in a future version. Use pandas.concat instead.\n",
      "  Climbing_down = Climbing_down.append(Climbing)\n"
     ]
    },
    {
     "name": "stderr",
     "output_type": "stream",
     "text": [
      "C:\\Users\\Timmy\\AppData\\Local\\Temp\\ipykernel_5112\\1783999225.py:19: FutureWarning: The frame.append method is deprecated and will be removed from pandas in a future version. Use pandas.concat instead.\n",
      "  Climbing_down = Climbing_down.append(Climbing)\n",
      "C:\\Users\\Timmy\\AppData\\Local\\Temp\\ipykernel_5112\\1783999225.py:19: FutureWarning: The frame.append method is deprecated and will be removed from pandas in a future version. Use pandas.concat instead.\n",
      "  Climbing_down = Climbing_down.append(Climbing)\n",
      "C:\\Users\\Timmy\\AppData\\Local\\Temp\\ipykernel_5112\\1783999225.py:19: FutureWarning: The frame.append method is deprecated and will be removed from pandas in a future version. Use pandas.concat instead.\n",
      "  Climbing_down = Climbing_down.append(Climbing)\n",
      "C:\\Users\\Timmy\\AppData\\Local\\Temp\\ipykernel_5112\\1783999225.py:19: FutureWarning: The frame.append method is deprecated and will be removed from pandas in a future version. Use pandas.concat instead.\n",
      "  Climbing_down = Climbing_down.append(Climbing)\n",
      "C:\\Users\\Timmy\\AppData\\Local\\Temp\\ipykernel_5112\\1783999225.py:19: FutureWarning: The frame.append method is deprecated and will be removed from pandas in a future version. Use pandas.concat instead.\n",
      "  Climbing_down = Climbing_down.append(Climbing)\n",
      "C:\\Users\\Timmy\\AppData\\Local\\Temp\\ipykernel_5112\\1783999225.py:19: FutureWarning: The frame.append method is deprecated and will be removed from pandas in a future version. Use pandas.concat instead.\n",
      "  Climbing_down = Climbing_down.append(Climbing)\n",
      "C:\\Users\\Timmy\\AppData\\Local\\Temp\\ipykernel_5112\\1783999225.py:19: FutureWarning: The frame.append method is deprecated and will be removed from pandas in a future version. Use pandas.concat instead.\n",
      "  Climbing_down = Climbing_down.append(Climbing)\n",
      "C:\\Users\\Timmy\\AppData\\Local\\Temp\\ipykernel_5112\\1783999225.py:19: FutureWarning: The frame.append method is deprecated and will be removed from pandas in a future version. Use pandas.concat instead.\n",
      "  Climbing_down = Climbing_down.append(Climbing)\n",
      "C:\\Users\\Timmy\\AppData\\Local\\Temp\\ipykernel_5112\\1783999225.py:19: FutureWarning: The frame.append method is deprecated and will be removed from pandas in a future version. Use pandas.concat instead.\n",
      "  Climbing_down = Climbing_down.append(Climbing)\n",
      "C:\\Users\\Timmy\\AppData\\Local\\Temp\\ipykernel_5112\\1783999225.py:19: FutureWarning: The frame.append method is deprecated and will be removed from pandas in a future version. Use pandas.concat instead.\n",
      "  Climbing_down = Climbing_down.append(Climbing)\n",
      "C:\\Users\\Timmy\\AppData\\Local\\Temp\\ipykernel_5112\\1783999225.py:19: FutureWarning: The frame.append method is deprecated and will be removed from pandas in a future version. Use pandas.concat instead.\n",
      "  Climbing_down = Climbing_down.append(Climbing)\n",
      "C:\\Users\\Timmy\\AppData\\Local\\Temp\\ipykernel_5112\\1783999225.py:19: FutureWarning: The frame.append method is deprecated and will be removed from pandas in a future version. Use pandas.concat instead.\n",
      "  Climbing_down = Climbing_down.append(Climbing)\n",
      "C:\\Users\\Timmy\\AppData\\Local\\Temp\\ipykernel_5112\\1783999225.py:19: FutureWarning: The frame.append method is deprecated and will be removed from pandas in a future version. Use pandas.concat instead.\n",
      "  Climbing_down = Climbing_down.append(Climbing)\n",
      "C:\\Users\\Timmy\\AppData\\Local\\Temp\\ipykernel_5112\\1783999225.py:19: FutureWarning: The frame.append method is deprecated and will be removed from pandas in a future version. Use pandas.concat instead.\n",
      "  Climbing_down = Climbing_down.append(Climbing)\n",
      "C:\\Users\\Timmy\\AppData\\Local\\Temp\\ipykernel_5112\\1783999225.py:19: FutureWarning: The frame.append method is deprecated and will be removed from pandas in a future version. Use pandas.concat instead.\n",
      "  Climbing_down = Climbing_down.append(Climbing)\n",
      "C:\\Users\\Timmy\\AppData\\Local\\Temp\\ipykernel_5112\\1783999225.py:19: FutureWarning: The frame.append method is deprecated and will be removed from pandas in a future version. Use pandas.concat instead.\n",
      "  Climbing_down = Climbing_down.append(Climbing)\n"
     ]
    }
   ],
   "source": [
    "path = \"Climbing_down_stairs/CL\"\n",
    "Climbing_down = pd.DataFrame()\n",
    "for i in range(50):\n",
    "    if i == 0:\n",
    "        pass\n",
    "    else:\n",
    "        df = pd.read_csv(path +f\"{i}\" + \"/Accelerometer.csv\" )\n",
    "        df = df.rename(columns={ df.columns[2]: \"ACCELEROMETER Z (m/s²)\" ,df.columns[3]: \"ACCELEROMETER Y (m/s²)\", \n",
    "                                df.columns[4]: \"ACCELEROMETER X (m/s²)\"   })\n",
    "        df = df[['seconds_elapsed', 'ACCELEROMETER X (m/s²)',\n",
    "       'ACCELEROMETER Y (m/s²)', 'ACCELEROMETER Z (m/s²)']]\n",
    "        df1 = pd.read_csv(path +f\"{i}\" + \"/Gyroscope.csv\" )\n",
    "        df1 = df1.rename(columns={ df1.columns[2]: \"GYROSCOPE Z (rad/s)\" ,df1.columns[3]: \"GYROSCOPE Y (rad/s)\", \n",
    "                                df1.columns[4]: \"GYROSCOPE X (rad/s)\"   })\n",
    "        df1 = df1[['time', 'seconds_elapsed', 'GYROSCOPE X (rad/s)',\n",
    "       'GYROSCOPE Y (rad/s)', 'GYROSCOPE Z (rad/s)']]\n",
    "        df1.drop(['time', 'seconds_elapsed'], axis=1, inplace=True)\n",
    "        Climbing = pd.concat([df, df1], axis = 1)\n",
    "        Climbing_down = Climbing_down.append(Climbing)\n",
    "    \n",
    "  "
   ]
  },
  {
   "cell_type": "markdown",
   "id": "0aed2894",
   "metadata": {},
   "source": [
    "### Standing up"
   ]
  },
  {
   "cell_type": "code",
   "execution_count": 3,
   "id": "c28fdf71",
   "metadata": {
    "scrolled": false
   },
   "outputs": [
    {
     "name": "stderr",
     "output_type": "stream",
     "text": [
      "C:\\Users\\Timmy\\AppData\\Local\\Temp\\ipykernel_5112\\3645071676.py:21: FutureWarning: The frame.append method is deprecated and will be removed from pandas in a future version. Use pandas.concat instead.\n",
      "  Standing = Standing.append(Stand)\n",
      "C:\\Users\\Timmy\\AppData\\Local\\Temp\\ipykernel_5112\\3645071676.py:21: FutureWarning: The frame.append method is deprecated and will be removed from pandas in a future version. Use pandas.concat instead.\n",
      "  Standing = Standing.append(Stand)\n",
      "C:\\Users\\Timmy\\AppData\\Local\\Temp\\ipykernel_5112\\3645071676.py:21: FutureWarning: The frame.append method is deprecated and will be removed from pandas in a future version. Use pandas.concat instead.\n",
      "  Standing = Standing.append(Stand)\n",
      "C:\\Users\\Timmy\\AppData\\Local\\Temp\\ipykernel_5112\\3645071676.py:21: FutureWarning: The frame.append method is deprecated and will be removed from pandas in a future version. Use pandas.concat instead.\n",
      "  Standing = Standing.append(Stand)\n",
      "C:\\Users\\Timmy\\AppData\\Local\\Temp\\ipykernel_5112\\3645071676.py:21: FutureWarning: The frame.append method is deprecated and will be removed from pandas in a future version. Use pandas.concat instead.\n",
      "  Standing = Standing.append(Stand)\n",
      "C:\\Users\\Timmy\\AppData\\Local\\Temp\\ipykernel_5112\\3645071676.py:21: FutureWarning: The frame.append method is deprecated and will be removed from pandas in a future version. Use pandas.concat instead.\n",
      "  Standing = Standing.append(Stand)\n",
      "C:\\Users\\Timmy\\AppData\\Local\\Temp\\ipykernel_5112\\3645071676.py:21: FutureWarning: The frame.append method is deprecated and will be removed from pandas in a future version. Use pandas.concat instead.\n",
      "  Standing = Standing.append(Stand)\n",
      "C:\\Users\\Timmy\\AppData\\Local\\Temp\\ipykernel_5112\\3645071676.py:21: FutureWarning: The frame.append method is deprecated and will be removed from pandas in a future version. Use pandas.concat instead.\n",
      "  Standing = Standing.append(Stand)\n",
      "C:\\Users\\Timmy\\AppData\\Local\\Temp\\ipykernel_5112\\3645071676.py:21: FutureWarning: The frame.append method is deprecated and will be removed from pandas in a future version. Use pandas.concat instead.\n",
      "  Standing = Standing.append(Stand)\n",
      "C:\\Users\\Timmy\\AppData\\Local\\Temp\\ipykernel_5112\\3645071676.py:21: FutureWarning: The frame.append method is deprecated and will be removed from pandas in a future version. Use pandas.concat instead.\n",
      "  Standing = Standing.append(Stand)\n",
      "C:\\Users\\Timmy\\AppData\\Local\\Temp\\ipykernel_5112\\3645071676.py:21: FutureWarning: The frame.append method is deprecated and will be removed from pandas in a future version. Use pandas.concat instead.\n",
      "  Standing = Standing.append(Stand)\n",
      "C:\\Users\\Timmy\\AppData\\Local\\Temp\\ipykernel_5112\\3645071676.py:21: FutureWarning: The frame.append method is deprecated and will be removed from pandas in a future version. Use pandas.concat instead.\n",
      "  Standing = Standing.append(Stand)\n",
      "C:\\Users\\Timmy\\AppData\\Local\\Temp\\ipykernel_5112\\3645071676.py:21: FutureWarning: The frame.append method is deprecated and will be removed from pandas in a future version. Use pandas.concat instead.\n",
      "  Standing = Standing.append(Stand)\n",
      "C:\\Users\\Timmy\\AppData\\Local\\Temp\\ipykernel_5112\\3645071676.py:21: FutureWarning: The frame.append method is deprecated and will be removed from pandas in a future version. Use pandas.concat instead.\n",
      "  Standing = Standing.append(Stand)\n",
      "C:\\Users\\Timmy\\AppData\\Local\\Temp\\ipykernel_5112\\3645071676.py:21: FutureWarning: The frame.append method is deprecated and will be removed from pandas in a future version. Use pandas.concat instead.\n",
      "  Standing = Standing.append(Stand)\n",
      "C:\\Users\\Timmy\\AppData\\Local\\Temp\\ipykernel_5112\\3645071676.py:21: FutureWarning: The frame.append method is deprecated and will be removed from pandas in a future version. Use pandas.concat instead.\n",
      "  Standing = Standing.append(Stand)\n",
      "C:\\Users\\Timmy\\AppData\\Local\\Temp\\ipykernel_5112\\3645071676.py:21: FutureWarning: The frame.append method is deprecated and will be removed from pandas in a future version. Use pandas.concat instead.\n",
      "  Standing = Standing.append(Stand)\n",
      "C:\\Users\\Timmy\\AppData\\Local\\Temp\\ipykernel_5112\\3645071676.py:21: FutureWarning: The frame.append method is deprecated and will be removed from pandas in a future version. Use pandas.concat instead.\n",
      "  Standing = Standing.append(Stand)\n",
      "C:\\Users\\Timmy\\AppData\\Local\\Temp\\ipykernel_5112\\3645071676.py:21: FutureWarning: The frame.append method is deprecated and will be removed from pandas in a future version. Use pandas.concat instead.\n",
      "  Standing = Standing.append(Stand)\n",
      "C:\\Users\\Timmy\\AppData\\Local\\Temp\\ipykernel_5112\\3645071676.py:21: FutureWarning: The frame.append method is deprecated and will be removed from pandas in a future version. Use pandas.concat instead.\n",
      "  Standing = Standing.append(Stand)\n",
      "C:\\Users\\Timmy\\AppData\\Local\\Temp\\ipykernel_5112\\3645071676.py:21: FutureWarning: The frame.append method is deprecated and will be removed from pandas in a future version. Use pandas.concat instead.\n",
      "  Standing = Standing.append(Stand)\n",
      "C:\\Users\\Timmy\\AppData\\Local\\Temp\\ipykernel_5112\\3645071676.py:21: FutureWarning: The frame.append method is deprecated and will be removed from pandas in a future version. Use pandas.concat instead.\n",
      "  Standing = Standing.append(Stand)\n",
      "C:\\Users\\Timmy\\AppData\\Local\\Temp\\ipykernel_5112\\3645071676.py:21: FutureWarning: The frame.append method is deprecated and will be removed from pandas in a future version. Use pandas.concat instead.\n",
      "  Standing = Standing.append(Stand)\n",
      "C:\\Users\\Timmy\\AppData\\Local\\Temp\\ipykernel_5112\\3645071676.py:21: FutureWarning: The frame.append method is deprecated and will be removed from pandas in a future version. Use pandas.concat instead.\n",
      "  Standing = Standing.append(Stand)\n",
      "C:\\Users\\Timmy\\AppData\\Local\\Temp\\ipykernel_5112\\3645071676.py:21: FutureWarning: The frame.append method is deprecated and will be removed from pandas in a future version. Use pandas.concat instead.\n",
      "  Standing = Standing.append(Stand)\n",
      "C:\\Users\\Timmy\\AppData\\Local\\Temp\\ipykernel_5112\\3645071676.py:21: FutureWarning: The frame.append method is deprecated and will be removed from pandas in a future version. Use pandas.concat instead.\n",
      "  Standing = Standing.append(Stand)\n",
      "C:\\Users\\Timmy\\AppData\\Local\\Temp\\ipykernel_5112\\3645071676.py:21: FutureWarning: The frame.append method is deprecated and will be removed from pandas in a future version. Use pandas.concat instead.\n",
      "  Standing = Standing.append(Stand)\n",
      "C:\\Users\\Timmy\\AppData\\Local\\Temp\\ipykernel_5112\\3645071676.py:21: FutureWarning: The frame.append method is deprecated and will be removed from pandas in a future version. Use pandas.concat instead.\n",
      "  Standing = Standing.append(Stand)\n",
      "C:\\Users\\Timmy\\AppData\\Local\\Temp\\ipykernel_5112\\3645071676.py:21: FutureWarning: The frame.append method is deprecated and will be removed from pandas in a future version. Use pandas.concat instead.\n",
      "  Standing = Standing.append(Stand)\n",
      "C:\\Users\\Timmy\\AppData\\Local\\Temp\\ipykernel_5112\\3645071676.py:21: FutureWarning: The frame.append method is deprecated and will be removed from pandas in a future version. Use pandas.concat instead.\n",
      "  Standing = Standing.append(Stand)\n",
      "C:\\Users\\Timmy\\AppData\\Local\\Temp\\ipykernel_5112\\3645071676.py:21: FutureWarning: The frame.append method is deprecated and will be removed from pandas in a future version. Use pandas.concat instead.\n",
      "  Standing = Standing.append(Stand)\n",
      "C:\\Users\\Timmy\\AppData\\Local\\Temp\\ipykernel_5112\\3645071676.py:21: FutureWarning: The frame.append method is deprecated and will be removed from pandas in a future version. Use pandas.concat instead.\n",
      "  Standing = Standing.append(Stand)\n",
      "C:\\Users\\Timmy\\AppData\\Local\\Temp\\ipykernel_5112\\3645071676.py:21: FutureWarning: The frame.append method is deprecated and will be removed from pandas in a future version. Use pandas.concat instead.\n",
      "  Standing = Standing.append(Stand)\n",
      "C:\\Users\\Timmy\\AppData\\Local\\Temp\\ipykernel_5112\\3645071676.py:21: FutureWarning: The frame.append method is deprecated and will be removed from pandas in a future version. Use pandas.concat instead.\n",
      "  Standing = Standing.append(Stand)\n",
      "C:\\Users\\Timmy\\AppData\\Local\\Temp\\ipykernel_5112\\3645071676.py:21: FutureWarning: The frame.append method is deprecated and will be removed from pandas in a future version. Use pandas.concat instead.\n",
      "  Standing = Standing.append(Stand)\n",
      "C:\\Users\\Timmy\\AppData\\Local\\Temp\\ipykernel_5112\\3645071676.py:21: FutureWarning: The frame.append method is deprecated and will be removed from pandas in a future version. Use pandas.concat instead.\n",
      "  Standing = Standing.append(Stand)\n"
     ]
    },
    {
     "name": "stderr",
     "output_type": "stream",
     "text": [
      "C:\\Users\\Timmy\\AppData\\Local\\Temp\\ipykernel_5112\\3645071676.py:21: FutureWarning: The frame.append method is deprecated and will be removed from pandas in a future version. Use pandas.concat instead.\n",
      "  Standing = Standing.append(Stand)\n",
      "C:\\Users\\Timmy\\AppData\\Local\\Temp\\ipykernel_5112\\3645071676.py:21: FutureWarning: The frame.append method is deprecated and will be removed from pandas in a future version. Use pandas.concat instead.\n",
      "  Standing = Standing.append(Stand)\n",
      "C:\\Users\\Timmy\\AppData\\Local\\Temp\\ipykernel_5112\\3645071676.py:21: FutureWarning: The frame.append method is deprecated and will be removed from pandas in a future version. Use pandas.concat instead.\n",
      "  Standing = Standing.append(Stand)\n",
      "C:\\Users\\Timmy\\AppData\\Local\\Temp\\ipykernel_5112\\3645071676.py:21: FutureWarning: The frame.append method is deprecated and will be removed from pandas in a future version. Use pandas.concat instead.\n",
      "  Standing = Standing.append(Stand)\n",
      "C:\\Users\\Timmy\\AppData\\Local\\Temp\\ipykernel_5112\\3645071676.py:21: FutureWarning: The frame.append method is deprecated and will be removed from pandas in a future version. Use pandas.concat instead.\n",
      "  Standing = Standing.append(Stand)\n",
      "C:\\Users\\Timmy\\AppData\\Local\\Temp\\ipykernel_5112\\3645071676.py:21: FutureWarning: The frame.append method is deprecated and will be removed from pandas in a future version. Use pandas.concat instead.\n",
      "  Standing = Standing.append(Stand)\n",
      "C:\\Users\\Timmy\\AppData\\Local\\Temp\\ipykernel_5112\\3645071676.py:21: FutureWarning: The frame.append method is deprecated and will be removed from pandas in a future version. Use pandas.concat instead.\n",
      "  Standing = Standing.append(Stand)\n",
      "C:\\Users\\Timmy\\AppData\\Local\\Temp\\ipykernel_5112\\3645071676.py:21: FutureWarning: The frame.append method is deprecated and will be removed from pandas in a future version. Use pandas.concat instead.\n",
      "  Standing = Standing.append(Stand)\n",
      "C:\\Users\\Timmy\\AppData\\Local\\Temp\\ipykernel_5112\\3645071676.py:21: FutureWarning: The frame.append method is deprecated and will be removed from pandas in a future version. Use pandas.concat instead.\n",
      "  Standing = Standing.append(Stand)\n",
      "C:\\Users\\Timmy\\AppData\\Local\\Temp\\ipykernel_5112\\3645071676.py:21: FutureWarning: The frame.append method is deprecated and will be removed from pandas in a future version. Use pandas.concat instead.\n",
      "  Standing = Standing.append(Stand)\n",
      "C:\\Users\\Timmy\\AppData\\Local\\Temp\\ipykernel_5112\\3645071676.py:21: FutureWarning: The frame.append method is deprecated and will be removed from pandas in a future version. Use pandas.concat instead.\n",
      "  Standing = Standing.append(Stand)\n",
      "C:\\Users\\Timmy\\AppData\\Local\\Temp\\ipykernel_5112\\3645071676.py:21: FutureWarning: The frame.append method is deprecated and will be removed from pandas in a future version. Use pandas.concat instead.\n",
      "  Standing = Standing.append(Stand)\n",
      "C:\\Users\\Timmy\\AppData\\Local\\Temp\\ipykernel_5112\\3645071676.py:21: FutureWarning: The frame.append method is deprecated and will be removed from pandas in a future version. Use pandas.concat instead.\n",
      "  Standing = Standing.append(Stand)\n"
     ]
    }
   ],
   "source": [
    "path = \"standing_up/Stand\"\n",
    "Standing = pd.DataFrame()\n",
    "for i in range(50):\n",
    "    if i == 0:\n",
    "        pass\n",
    "    else:\n",
    "        df = pd.read_csv(path +f\"{i}\" + \"/Accelerometer.csv\" )\n",
    "        df = df.rename(columns={ df.columns[2]: \"ACCELEROMETER Z (m/s²)\" ,df.columns[3]: \"ACCELEROMETER Y (m/s²)\", \n",
    "                                df.columns[4]: \"ACCELEROMETER X (m/s²)\"   })\n",
    "        df = df[['seconds_elapsed', 'ACCELEROMETER X (m/s²)',\n",
    "       'ACCELEROMETER Y (m/s²)', 'ACCELEROMETER Z (m/s²)']]\n",
    "        df1 = pd.read_csv(path +f\"{i}\" + \"/Gyroscope.csv\" )\n",
    "        df1 = df1.rename(columns={ df1.columns[2]: \"GYROSCOPE Z (rad/s)\" ,df1.columns[3]: \"GYROSCOPE Y (rad/s)\", \n",
    "                                df1.columns[4]: \"GYROSCOPE X (rad/s)\"   })\n",
    "        df1 = df1[['time', 'seconds_elapsed', 'GYROSCOPE X (rad/s)',\n",
    "       'GYROSCOPE Y (rad/s)', 'GYROSCOPE Z (rad/s)']]\n",
    "        \n",
    "        df1.drop(['time', 'seconds_elapsed'], axis=1, inplace=True)\n",
    "        \n",
    "        Stand = pd.concat([df, df1], axis = 1 , join='inner')\n",
    "        Standing = Standing.append(Stand)\n",
    "    \n",
    "  "
   ]
  },
  {
   "cell_type": "markdown",
   "id": "b28275d6",
   "metadata": {},
   "source": [
    "### Walking"
   ]
  },
  {
   "cell_type": "code",
   "execution_count": 4,
   "id": "41002e1b",
   "metadata": {},
   "outputs": [
    {
     "name": "stderr",
     "output_type": "stream",
     "text": [
      "C:\\Users\\Timmy\\AppData\\Local\\Temp\\ipykernel_5112\\1944962246.py:10: FutureWarning: The frame.append method is deprecated and will be removed from pandas in a future version. Use pandas.concat instead.\n",
      "  walking = walking.append(df)\n",
      "C:\\Users\\Timmy\\AppData\\Local\\Temp\\ipykernel_5112\\1944962246.py:10: FutureWarning: The frame.append method is deprecated and will be removed from pandas in a future version. Use pandas.concat instead.\n",
      "  walking = walking.append(df)\n",
      "C:\\Users\\Timmy\\AppData\\Local\\Temp\\ipykernel_5112\\1944962246.py:10: FutureWarning: The frame.append method is deprecated and will be removed from pandas in a future version. Use pandas.concat instead.\n",
      "  walking = walking.append(df)\n",
      "C:\\Users\\Timmy\\AppData\\Local\\Temp\\ipykernel_5112\\1944962246.py:10: FutureWarning: The frame.append method is deprecated and will be removed from pandas in a future version. Use pandas.concat instead.\n",
      "  walking = walking.append(df)\n",
      "C:\\Users\\Timmy\\AppData\\Local\\Temp\\ipykernel_5112\\1944962246.py:10: FutureWarning: The frame.append method is deprecated and will be removed from pandas in a future version. Use pandas.concat instead.\n",
      "  walking = walking.append(df)\n",
      "C:\\Users\\Timmy\\AppData\\Local\\Temp\\ipykernel_5112\\1944962246.py:10: FutureWarning: The frame.append method is deprecated and will be removed from pandas in a future version. Use pandas.concat instead.\n",
      "  walking = walking.append(df)\n",
      "C:\\Users\\Timmy\\AppData\\Local\\Temp\\ipykernel_5112\\1944962246.py:10: FutureWarning: The frame.append method is deprecated and will be removed from pandas in a future version. Use pandas.concat instead.\n",
      "  walking = walking.append(df)\n",
      "C:\\Users\\Timmy\\AppData\\Local\\Temp\\ipykernel_5112\\1944962246.py:10: FutureWarning: The frame.append method is deprecated and will be removed from pandas in a future version. Use pandas.concat instead.\n",
      "  walking = walking.append(df)\n",
      "C:\\Users\\Timmy\\AppData\\Local\\Temp\\ipykernel_5112\\1944962246.py:10: FutureWarning: The frame.append method is deprecated and will be removed from pandas in a future version. Use pandas.concat instead.\n",
      "  walking = walking.append(df)\n",
      "C:\\Users\\Timmy\\AppData\\Local\\Temp\\ipykernel_5112\\1944962246.py:10: FutureWarning: The frame.append method is deprecated and will be removed from pandas in a future version. Use pandas.concat instead.\n",
      "  walking = walking.append(df)\n",
      "C:\\Users\\Timmy\\AppData\\Local\\Temp\\ipykernel_5112\\1944962246.py:10: FutureWarning: The frame.append method is deprecated and will be removed from pandas in a future version. Use pandas.concat instead.\n",
      "  walking = walking.append(df)\n",
      "C:\\Users\\Timmy\\AppData\\Local\\Temp\\ipykernel_5112\\1944962246.py:10: FutureWarning: The frame.append method is deprecated and will be removed from pandas in a future version. Use pandas.concat instead.\n",
      "  walking = walking.append(df)\n",
      "C:\\Users\\Timmy\\AppData\\Local\\Temp\\ipykernel_5112\\1944962246.py:10: FutureWarning: The frame.append method is deprecated and will be removed from pandas in a future version. Use pandas.concat instead.\n",
      "  walking = walking.append(df)\n",
      "C:\\Users\\Timmy\\AppData\\Local\\Temp\\ipykernel_5112\\1944962246.py:10: FutureWarning: The frame.append method is deprecated and will be removed from pandas in a future version. Use pandas.concat instead.\n",
      "  walking = walking.append(df)\n",
      "C:\\Users\\Timmy\\AppData\\Local\\Temp\\ipykernel_5112\\1944962246.py:10: FutureWarning: The frame.append method is deprecated and will be removed from pandas in a future version. Use pandas.concat instead.\n",
      "  walking = walking.append(df)\n",
      "C:\\Users\\Timmy\\AppData\\Local\\Temp\\ipykernel_5112\\1944962246.py:10: FutureWarning: The frame.append method is deprecated and will be removed from pandas in a future version. Use pandas.concat instead.\n",
      "  walking = walking.append(df)\n",
      "C:\\Users\\Timmy\\AppData\\Local\\Temp\\ipykernel_5112\\1944962246.py:10: FutureWarning: The frame.append method is deprecated and will be removed from pandas in a future version. Use pandas.concat instead.\n",
      "  walking = walking.append(df)\n",
      "C:\\Users\\Timmy\\AppData\\Local\\Temp\\ipykernel_5112\\1944962246.py:10: FutureWarning: The frame.append method is deprecated and will be removed from pandas in a future version. Use pandas.concat instead.\n",
      "  walking = walking.append(df)\n",
      "C:\\Users\\Timmy\\AppData\\Local\\Temp\\ipykernel_5112\\1944962246.py:10: FutureWarning: The frame.append method is deprecated and will be removed from pandas in a future version. Use pandas.concat instead.\n",
      "  walking = walking.append(df)\n",
      "C:\\Users\\Timmy\\AppData\\Local\\Temp\\ipykernel_5112\\1944962246.py:10: FutureWarning: The frame.append method is deprecated and will be removed from pandas in a future version. Use pandas.concat instead.\n",
      "  walking = walking.append(df)\n"
     ]
    }
   ],
   "source": [
    "path = \"data/walking/walking_\"\n",
    "walking = pd.DataFrame()\n",
    "for i in range(20):\n",
    "    df = pd.read_csv(path +f\"{i}.csv\",header=1,sep=\";\")\n",
    "    df = df[['Time since start in ms ', 'ACCELEROMETER X (m/s²)',\n",
    "      'ACCELEROMETER Y (m/s²)', 'ACCELEROMETER Z (m/s²)', 'GYROSCOPE X (rad/s)', \n",
    "    'GYROSCOPE Y (rad/s)', 'GYROSCOPE Z (rad/s)']]\n",
    "    df['Time since start in ms ']/= 1000\n",
    "    df = df.rename(columns={ df.columns[0]: \"seconds_elapsed\"})\n",
    "    walking = walking.append(df)\n",
    "    \n",
    "    "
   ]
  },
  {
   "cell_type": "markdown",
   "id": "4c13c6f0",
   "metadata": {},
   "source": [
    "### Rowing"
   ]
  },
  {
   "cell_type": "code",
   "execution_count": 5,
   "id": "23f59de5",
   "metadata": {},
   "outputs": [],
   "source": [
    "rowing = pd.read_csv(\"RowingMachine_20221102_210235_AndroSensor.csv\",header=1,sep=\";\")\n",
    "rowing = rowing[['Time since start in ms ', 'ACCELEROMETER X (m/s²)',\n",
    "      'ACCELEROMETER Y (m/s²)', 'ACCELEROMETER Z (m/s²)', 'GYROSCOPE X (rad/s)', \n",
    "    'GYROSCOPE Y (rad/s)', 'GYROSCOPE Z (rad/s)']]\n",
    "rowing['Time since start in ms ']/= 1000\n",
    "rowing = rowing.rename(columns={ rowing.columns[0]: \"seconds_elapsed\"})\n"
   ]
  },
  {
   "cell_type": "markdown",
   "id": "eb305491",
   "metadata": {},
   "source": [
    "### Climbing up"
   ]
  },
  {
   "cell_type": "code",
   "execution_count": 6,
   "id": "e0424fb4",
   "metadata": {},
   "outputs": [],
   "source": [
    "climbing_up = pd.read_csv(\"climbing_Up_stairs.csv\",header=1,sep=\";\")\n",
    "climbing_up = climbing_up[['Time since start in ms ', 'ACCELEROMETER X (m/s²)',\n",
    "      'ACCELEROMETER Y (m/s²)', 'ACCELEROMETER Z (m/s²)', 'GYROSCOPE X (rad/s)', \n",
    "    'GYROSCOPE Y (rad/s)', 'GYROSCOPE Z (rad/s)']]\n",
    "climbing_up['Time since start in ms ']/= 1000\n",
    "climbing_up = climbing_up.rename(columns={ climbing_up.columns[0]: \"seconds_elapsed\"})\n"
   ]
  },
  {
   "cell_type": "markdown",
   "id": "dc62504b",
   "metadata": {},
   "source": [
    "### Create data list\n",
    "The data is sorted by it class, with the order: walking, rowing, climbing down, climbing up and standing"
   ]
  },
  {
   "cell_type": "code",
   "execution_count": 7,
   "id": "3b33909b",
   "metadata": {},
   "outputs": [],
   "source": [
    "#All data [walking,rowing,climbing_down,climbing_up,standing]\n",
    "data = [walking.values.tolist(),rowing.values.tolist(),\n",
    "        Climbing_down.values.tolist(),climbing_up.values.tolist(), Standing.values.tolist()]"
   ]
  },
  {
   "cell_type": "markdown",
   "id": "b3cb4355",
   "metadata": {},
   "source": [
    "## Data equalization\n",
    "Some data (standing and climbing down) have a different measurement frequency, which is why only every 50th or 100th data point can be used in order for this data to be comparable to the rest"
   ]
  },
  {
   "cell_type": "code",
   "execution_count": 8,
   "id": "35f9e8ba",
   "metadata": {},
   "outputs": [],
   "source": [
    "to_skip = {2: 50, 4: 100}\n",
    "for i in [2 , 4]:\n",
    "    j = 0\n",
    "    new_list = []\n",
    "    while j < len(data[i]):\n",
    "        new_list.append(data[i][j])\n",
    "        j += to_skip[i]\n",
    "    data[i] = new_list"
   ]
  },
  {
   "cell_type": "markdown",
   "id": "a1109f7a",
   "metadata": {},
   "source": [
    "## Windowing"
   ]
  },
  {
   "cell_type": "code",
   "execution_count": null,
   "id": "7828b16b",
   "metadata": {},
   "outputs": [],
   "source": []
  }
 ],
 "metadata": {
  "kernelspec": {
   "display_name": "Python 3 (ipykernel)",
   "language": "python",
   "name": "python3"
  },
  "language_info": {
   "codemirror_mode": {
    "name": "ipython",
    "version": 3
   },
   "file_extension": ".py",
   "mimetype": "text/x-python",
   "name": "python",
   "nbconvert_exporter": "python",
   "pygments_lexer": "ipython3",
   "version": "3.9.12"
  }
 },
 "nbformat": 4,
 "nbformat_minor": 5
}
